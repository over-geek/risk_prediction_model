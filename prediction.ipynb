{
 "cells": [
  {
   "cell_type": "code",
   "execution_count": 1,
   "metadata": {},
   "outputs": [
    {
     "name": "stdout",
     "output_type": "stream",
     "text": [
      "   Hours Studied  Previous Scores Extracurricular Activities  Sleep Hours  \\\n",
      "0              7               99                        Yes            9   \n",
      "1              4               82                         No            4   \n",
      "2              8               51                        Yes            7   \n",
      "3              5               52                        Yes            5   \n",
      "4              7               75                         No            8   \n",
      "\n",
      "   Sample Question Papers Practiced  Performance Index  \n",
      "0                                 1               91.0  \n",
      "1                                 2               65.0  \n",
      "2                                 2               45.0  \n",
      "3                                 2               36.0  \n",
      "4                                 5               66.0  \n"
     ]
    }
   ],
   "source": [
    "import pandas as pd\n",
    "import numpy as np\n",
    "import matplotlib.pyplot as plt\n",
    "from sklearn.model_selection import train_test_split, cross_val_score\n",
    "from sklearn.preprocessing import StandardScaler, LabelEncoder\n",
    "from sklearn.linear_model import LogisticRegression\n",
    "from sklearn.ensemble import RandomForestClassifier, GradientBoostingClassifier\n",
    "from sklearn.metrics import accuracy_score, precision_score, recall_score, f1_score, roc_auc_score\n",
    "\n",
    "# load data\n",
    "df = pd.read_csv('dataset/Student_Performance.csv')\n",
    "print(df.head())"
   ]
  },
  {
   "cell_type": "code",
   "execution_count": 2,
   "metadata": {},
   "outputs": [
    {
     "name": "stdout",
     "output_type": "stream",
     "text": [
      "    Previous Scores  Final Outcome\n",
      "0                99              1\n",
      "1                82              1\n",
      "2                51              1\n",
      "3                52              1\n",
      "4                75              1\n",
      "5                78              1\n",
      "6                73              1\n",
      "7                45              0\n",
      "8                77              1\n",
      "9                89              1\n",
      "10               91              1\n",
      "11               79              1\n",
      "12               47              0\n",
      "13               47              0\n",
      "14               79              1\n",
      "15               72              1\n",
      "16               73              1\n",
      "17               83              1\n",
      "18               54              1\n",
      "19               75              1\n"
     ]
    }
   ],
   "source": [
    "# convert categorical variable 'Extracurricular Activities' to numerical\n",
    "label = LabelEncoder()\n",
    "df['Extracurricular Activities'] = label.fit_transform(df['Extracurricular Activities'])\n",
    "# create 'final outcome' column based on 'Previous Scores' column. A score of 50 or above is considered a 1 (Pass) and below 50 is considered a 0 (Fail)\n",
    "df['Final Outcome'] = np.where(df['Previous Scores'] >= 50, 1, 0)\n",
    "print(df[['Previous Scores', 'Final Outcome']].head(20))\n"
   ]
  },
  {
   "cell_type": "code",
   "execution_count": 3,
   "metadata": {},
   "outputs": [],
   "source": [
    "# define features and target variable\n",
    "X = df[['Hours Studied', 'Previous Scores', 'Extracurricular Activities', 'Sleep Hours', 'Sample Question Papers Practiced']]\n",
    "y = df['Final Outcome']"
   ]
  },
  {
   "cell_type": "code",
   "execution_count": 4,
   "metadata": {},
   "outputs": [],
   "source": [
    "# split data into training and test sets\n",
    "X_train, X_test, y_train, y_test = train_test_split(X, y, test_size=0.2, random_state=42)\n",
    "\n",
    "# standardize features\n",
    "scaler = StandardScaler()\n",
    "X_train = scaler.fit_transform(X_train)\n",
    "X_test = scaler.transform(X_test)\n",
    "\n",
    "# model training using Logistic Regression\n",
    "model = LogisticRegression(random_state=42)\n",
    "model.fit(X_train, y_train)\n",
    "\n",
    "# feature importance\n",
    "feature_importance = model.coef_[0]\n",
    "feature_names = X.columns\n",
    "\n",
    "# model evaluation\n",
    "y_pred = model.predict(X_test)\n",
    "y_pred_proba = model.predict_proba(X_test)[:,1]\n",
    "\n",
    "accuracy = accuracy_score(y_test, y_pred)\n",
    "precision = precision_score(y_test, y_pred)\n",
    "recall = recall_score(y_test, y_pred)\n",
    "f1 = f1_score(y_test, y_pred)\n",
    "roc_auc = roc_auc_score(y_test, y_pred)\n"
   ]
  },
  {
   "cell_type": "code",
   "execution_count": 5,
   "metadata": {},
   "outputs": [
    {
     "name": "stdout",
     "output_type": "stream",
     "text": [
      "    Previous Scores  Final Outcome  Risk Score  Risk Category\n",
      "0                99              1    1.000000       Low Risk\n",
      "1                82              1    1.000000       Low Risk\n",
      "2                51              1    0.760393  Moderate Risk\n",
      "3                52              1    0.893323  Moderate Risk\n",
      "4                75              1    1.000000       Low Risk\n",
      "5                78              1    1.000000       Low Risk\n",
      "6                73              1    1.000000       Low Risk\n",
      "7                45              0    0.016035      High Risk\n",
      "8                77              1    1.000000       Low Risk\n",
      "9                89              1    1.000000       Low Risk\n",
      "10               91              1    1.000000       Low Risk\n",
      "11               79              1    1.000000       Low Risk\n",
      "12               47              0    0.076054      High Risk\n",
      "13               47              0    0.083358      High Risk\n",
      "14               79              1    1.000000       Low Risk\n",
      "15               72              1    1.000000       Low Risk\n",
      "16               73              1    1.000000       Low Risk\n",
      "17               83              1    1.000000       Low Risk\n",
      "18               54              1    0.983063  Moderate Risk\n",
      "19               75              1    1.000000       Low Risk\n"
     ]
    }
   ],
   "source": [
    "# Risk Score and Classification\n",
    "def categorize_risk(probability):\n",
    "    if probability >= 0.999909:\n",
    "        return 'Low Risk'\n",
    "    elif probability > 0.7:\n",
    "        return 'Moderate Risk'\n",
    "    else:\n",
    "        return 'High Risk'\n",
    "\n",
    "df['Risk Score'] = model.predict_proba(scaler.transform(X))[:, 1]\n",
    "df['Risk Category'] = df['Risk Score'].apply(lambda x: categorize_risk(x))\n",
    "\n",
    "print(df[['Previous Scores' , 'Final Outcome', 'Risk Score', 'Risk Category']].head(20))"
   ]
  },
  {
   "cell_type": "code",
   "execution_count": 7,
   "metadata": {},
   "outputs": [
    {
     "name": "stdout",
     "output_type": "stream",
     "text": [
      "75.5\n"
     ]
    }
   ],
   "source": [
    "# function to calculate required average end of sem score to achieve target increase in cwa score\n",
    "def calc_required_score(cum_weighted_marks, target_cwa, total_credit_hours_obtained, current_semester_credit_hours):\n",
    "  total_credit_hours = total_credit_hours_obtained + current_semester_credit_hours\n",
    "  required_cum_weighted_marks = (target_cwa * total_credit_hours) - (cum_weighted_marks)\n",
    "  required_score = required_cum_weighted_marks / current_semester_credit_hours\n",
    "  return required_score\n",
    "   \n",
    "\n",
    "# calculate required average score\n",
    "required_score = calc_required_score(7676, 69.5, 112, 18)\n",
    "print(required_score)\n"
   ]
  }
 ],
 "metadata": {
  "kernelspec": {
   "display_name": "Python 3",
   "language": "python",
   "name": "python3"
  },
  "language_info": {
   "codemirror_mode": {
    "name": "ipython",
    "version": 3
   },
   "file_extension": ".py",
   "mimetype": "text/x-python",
   "name": "python",
   "nbconvert_exporter": "python",
   "pygments_lexer": "ipython3",
   "version": "3.12.2"
  }
 },
 "nbformat": 4,
 "nbformat_minor": 2
}
